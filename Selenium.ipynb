{
 "cells": [
  {
   "cell_type": "markdown",
   "metadata": {},
   "source": [
    "## Pair programming selenium"
   ]
  },
  {
   "cell_type": "code",
   "execution_count": 2,
   "metadata": {},
   "outputs": [],
   "source": [
    "from selenium import webdriver\n",
    "from webdriver_manager.chrome import ChromeDriverManager\n",
    "from selenium.webdriver.common.keys import Keys\n",
    "from selenium.webdriver.support.ui import Select \n",
    "from time import sleep\n",
    "import pandas as pd\n",
    "#from bs4 import BeautifulSoup\n",
    "pd.set_option('display.max_columns', None) "
   ]
  },
  {
   "cell_type": "markdown",
   "metadata": {},
   "source": [
    "titulo del libro\n",
    "autor del libro\n",
    "precio del libro\n",
    "editorial del libro\n",
    "idioma del libro\n",
    "número de páginas del libro"
   ]
  },
  {
   "cell_type": "code",
   "execution_count": 12,
   "metadata": {},
   "outputs": [
    {
     "ename": "NoSuchElementException",
     "evalue": "Message: no such element: Unable to locate element: {\"method\":\"css selector\",\"selector\":\"#buscadorNF > div.col-md-9.col-12 > div > div.grid-view.mt-4 > div:nth-child(1) > a > div > img\"}\n  (Session info: chrome=118.0.5993.118); For documentation on this error, please visit: https://www.selenium.dev/documentation/webdriver/troubleshooting/errors#no-such-element-exception\nStacktrace:\n\tGetHandleVerifier [0x00007FF63CCE8EF2+54786]\n\t(No symbol) [0x00007FF63CC55612]\n\t(No symbol) [0x00007FF63CB0A64B]\n\t(No symbol) [0x00007FF63CB4B79C]\n\t(No symbol) [0x00007FF63CB4B91C]\n\t(No symbol) [0x00007FF63CB86D87]\n\t(No symbol) [0x00007FF63CB6BEAF]\n\t(No symbol) [0x00007FF63CB84D02]\n\t(No symbol) [0x00007FF63CB6BC43]\n\t(No symbol) [0x00007FF63CB40941]\n\t(No symbol) [0x00007FF63CB41B84]\n\tGetHandleVerifier [0x00007FF63D037F52+3524194]\n\tGetHandleVerifier [0x00007FF63D08D800+3874576]\n\tGetHandleVerifier [0x00007FF63D085D7F+3843215]\n\tGetHandleVerifier [0x00007FF63CD85086+694166]\n\t(No symbol) [0x00007FF63CC60A88]\n\t(No symbol) [0x00007FF63CC5CA94]\n\t(No symbol) [0x00007FF63CC5CBC2]\n\t(No symbol) [0x00007FF63CC4CC83]\n\tBaseThreadInitThunk [0x00007FFE57DF7344+20]\n\tRtlUserThreadStart [0x00007FFE593426B1+33]\n",
     "output_type": "error",
     "traceback": [
      "\u001b[1;31m---------------------------------------------------------------------------\u001b[0m",
      "\u001b[1;31mNoSuchElementException\u001b[0m                    Traceback (most recent call last)",
      "\u001b[1;32mc:\\Users\\ElenaGuillén\\Desktop\\Adalab\\Módulo 2\\Terminal\\da-modulo2-sprint1-pairprogramming_Rocio_ElenaG\\Selenium.ipynb Cell 4\u001b[0m line \u001b[0;36m3\n\u001b[0;32m     <a href='vscode-notebook-cell:/c%3A/Users/ElenaGuill%C3%A9n/Desktop/Adalab/M%C3%B3dulo%202/Terminal/da-modulo2-sprint1-pairprogramming_Rocio_ElenaG/Selenium.ipynb#W3sZmlsZQ%3D%3D?line=32'>33</a>\u001b[0m sleep (\u001b[39m2\u001b[39m)\n\u001b[0;32m     <a href='vscode-notebook-cell:/c%3A/Users/ElenaGuill%C3%A9n/Desktop/Adalab/M%C3%B3dulo%202/Terminal/da-modulo2-sprint1-pairprogramming_Rocio_ElenaG/Selenium.ipynb#W3sZmlsZQ%3D%3D?line=33'>34</a>\u001b[0m \u001b[39m#Seleción del libro para acceder a su información\u001b[39;00m\n\u001b[1;32m---> <a href='vscode-notebook-cell:/c%3A/Users/ElenaGuill%C3%A9n/Desktop/Adalab/M%C3%B3dulo%202/Terminal/da-modulo2-sprint1-pairprogramming_Rocio_ElenaG/Selenium.ipynb#W3sZmlsZQ%3D%3D?line=34'>35</a>\u001b[0m driver\u001b[39m.\u001b[39;49mfind_element(\u001b[39m\"\u001b[39;49m\u001b[39mcss selector\u001b[39;49m\u001b[39m\"\u001b[39;49m, \u001b[39mf\u001b[39;49m\u001b[39m\"\u001b[39;49m\u001b[39m#buscadorNF > div.col-md-9.col-12 > div > div.grid-view.mt-4 > div:nth-child(\u001b[39;49m\u001b[39m{\u001b[39;49;00mi\u001b[39m}\u001b[39;49;00m\u001b[39m) > a > div > img\u001b[39;49m\u001b[39m\"\u001b[39;49m)\u001b[39m.\u001b[39mclick()\n\u001b[0;32m     <a href='vscode-notebook-cell:/c%3A/Users/ElenaGuill%C3%A9n/Desktop/Adalab/M%C3%B3dulo%202/Terminal/da-modulo2-sprint1-pairprogramming_Rocio_ElenaG/Selenium.ipynb#W3sZmlsZQ%3D%3D?line=36'>37</a>\u001b[0m sleep (\u001b[39m2\u001b[39m)\n\u001b[0;32m     <a href='vscode-notebook-cell:/c%3A/Users/ElenaGuill%C3%A9n/Desktop/Adalab/M%C3%B3dulo%202/Terminal/da-modulo2-sprint1-pairprogramming_Rocio_ElenaG/Selenium.ipynb#W3sZmlsZQ%3D%3D?line=38'>39</a>\u001b[0m \u001b[39m#Extracción de cada uno de sus elementos\u001b[39;00m\n",
      "File \u001b[1;32m~\\AppData\\Local\\Packages\\PythonSoftwareFoundation.Python.3.11_qbz5n2kfra8p0\\LocalCache\\local-packages\\Python311\\site-packages\\selenium\\webdriver\\remote\\webdriver.py:738\u001b[0m, in \u001b[0;36mWebDriver.find_element\u001b[1;34m(self, by, value)\u001b[0m\n\u001b[0;32m    735\u001b[0m     by \u001b[39m=\u001b[39m By\u001b[39m.\u001b[39mCSS_SELECTOR\n\u001b[0;32m    736\u001b[0m     value \u001b[39m=\u001b[39m \u001b[39mf\u001b[39m\u001b[39m'\u001b[39m\u001b[39m[name=\u001b[39m\u001b[39m\"\u001b[39m\u001b[39m{\u001b[39;00mvalue\u001b[39m}\u001b[39;00m\u001b[39m\"\u001b[39m\u001b[39m]\u001b[39m\u001b[39m'\u001b[39m\n\u001b[1;32m--> 738\u001b[0m \u001b[39mreturn\u001b[39;00m \u001b[39mself\u001b[39;49m\u001b[39m.\u001b[39;49mexecute(Command\u001b[39m.\u001b[39;49mFIND_ELEMENT, {\u001b[39m\"\u001b[39;49m\u001b[39musing\u001b[39;49m\u001b[39m\"\u001b[39;49m: by, \u001b[39m\"\u001b[39;49m\u001b[39mvalue\u001b[39;49m\u001b[39m\"\u001b[39;49m: value})[\u001b[39m\"\u001b[39m\u001b[39mvalue\u001b[39m\u001b[39m\"\u001b[39m]\n",
      "File \u001b[1;32m~\\AppData\\Local\\Packages\\PythonSoftwareFoundation.Python.3.11_qbz5n2kfra8p0\\LocalCache\\local-packages\\Python311\\site-packages\\selenium\\webdriver\\remote\\webdriver.py:344\u001b[0m, in \u001b[0;36mWebDriver.execute\u001b[1;34m(self, driver_command, params)\u001b[0m\n\u001b[0;32m    342\u001b[0m response \u001b[39m=\u001b[39m \u001b[39mself\u001b[39m\u001b[39m.\u001b[39mcommand_executor\u001b[39m.\u001b[39mexecute(driver_command, params)\n\u001b[0;32m    343\u001b[0m \u001b[39mif\u001b[39;00m response:\n\u001b[1;32m--> 344\u001b[0m     \u001b[39mself\u001b[39;49m\u001b[39m.\u001b[39;49merror_handler\u001b[39m.\u001b[39;49mcheck_response(response)\n\u001b[0;32m    345\u001b[0m     response[\u001b[39m\"\u001b[39m\u001b[39mvalue\u001b[39m\u001b[39m\"\u001b[39m] \u001b[39m=\u001b[39m \u001b[39mself\u001b[39m\u001b[39m.\u001b[39m_unwrap_value(response\u001b[39m.\u001b[39mget(\u001b[39m\"\u001b[39m\u001b[39mvalue\u001b[39m\u001b[39m\"\u001b[39m, \u001b[39mNone\u001b[39;00m))\n\u001b[0;32m    346\u001b[0m     \u001b[39mreturn\u001b[39;00m response\n",
      "File \u001b[1;32m~\\AppData\\Local\\Packages\\PythonSoftwareFoundation.Python.3.11_qbz5n2kfra8p0\\LocalCache\\local-packages\\Python311\\site-packages\\selenium\\webdriver\\remote\\errorhandler.py:229\u001b[0m, in \u001b[0;36mErrorHandler.check_response\u001b[1;34m(self, response)\u001b[0m\n\u001b[0;32m    227\u001b[0m         alert_text \u001b[39m=\u001b[39m value[\u001b[39m\"\u001b[39m\u001b[39malert\u001b[39m\u001b[39m\"\u001b[39m]\u001b[39m.\u001b[39mget(\u001b[39m\"\u001b[39m\u001b[39mtext\u001b[39m\u001b[39m\"\u001b[39m)\n\u001b[0;32m    228\u001b[0m     \u001b[39mraise\u001b[39;00m exception_class(message, screen, stacktrace, alert_text)  \u001b[39m# type: ignore[call-arg]  # mypy is not smart enough here\u001b[39;00m\n\u001b[1;32m--> 229\u001b[0m \u001b[39mraise\u001b[39;00m exception_class(message, screen, stacktrace)\n",
      "\u001b[1;31mNoSuchElementException\u001b[0m: Message: no such element: Unable to locate element: {\"method\":\"css selector\",\"selector\":\"#buscadorNF > div.col-md-9.col-12 > div > div.grid-view.mt-4 > div:nth-child(1) > a > div > img\"}\n  (Session info: chrome=118.0.5993.118); For documentation on this error, please visit: https://www.selenium.dev/documentation/webdriver/troubleshooting/errors#no-such-element-exception\nStacktrace:\n\tGetHandleVerifier [0x00007FF63CCE8EF2+54786]\n\t(No symbol) [0x00007FF63CC55612]\n\t(No symbol) [0x00007FF63CB0A64B]\n\t(No symbol) [0x00007FF63CB4B79C]\n\t(No symbol) [0x00007FF63CB4B91C]\n\t(No symbol) [0x00007FF63CB86D87]\n\t(No symbol) [0x00007FF63CB6BEAF]\n\t(No symbol) [0x00007FF63CB84D02]\n\t(No symbol) [0x00007FF63CB6BC43]\n\t(No symbol) [0x00007FF63CB40941]\n\t(No symbol) [0x00007FF63CB41B84]\n\tGetHandleVerifier [0x00007FF63D037F52+3524194]\n\tGetHandleVerifier [0x00007FF63D08D800+3874576]\n\tGetHandleVerifier [0x00007FF63D085D7F+3843215]\n\tGetHandleVerifier [0x00007FF63CD85086+694166]\n\t(No symbol) [0x00007FF63CC60A88]\n\t(No symbol) [0x00007FF63CC5CA94]\n\t(No symbol) [0x00007FF63CC5CBC2]\n\t(No symbol) [0x00007FF63CC4CC83]\n\tBaseThreadInitThunk [0x00007FFE57DF7344+20]\n\tRtlUserThreadStart [0x00007FFE593426B1+33]\n"
     ]
    }
   ],
   "source": [
    "driver = webdriver.Chrome() #1. lo que le estamos diciendo es que nos abra un navegador\n",
    "\n",
    "driver.get(\"https://www.casadellibro.com/\") #2. la web q qremos q habra\n",
    "\n",
    "driver.maximize_window()\n",
    "\n",
    "sleep (2)\n",
    "#Aceptar cookies\n",
    "driver.find_element (\"css selector\", \"#onetrust-accept-btn-handler\").click () \n",
    "\n",
    "sleep (2)\n",
    "#Libros ficción\n",
    "driver.find_element (\"css selector\", \"#app > div.v-application--wrap > div.when-mobile > div.cabecera.desktop > div.bottom-row > div > div > div:nth-child(2) > a\").click () # Vamos a la sección de ficción\n",
    "\n",
    "sleep (2)\n",
    "\n",
    "diccionario_libros = {\n",
    "    \"titulo\": [],\n",
    "    \"autor\": [],\n",
    "    \"precio\": [],\n",
    "    \"editorial\": [],\n",
    "    \"idioma\": [],\n",
    "    \"nro_paginas\": []\n",
    "}\n",
    "\n",
    "#Scroll\n",
    "driver.execute_script(\"window.scrollTo(0, 1000)\")\n",
    "\n",
    "sleep (2)\n",
    "\n",
    "for i in range(1,21): #Iteramos por cada libro de la primera página\n",
    "    \n",
    "    sleep (2)\n",
    "    #Seleción del libro para acceder a su información\n",
    "    driver.find_element(\"css selector\", f\"#buscadorNF > div.col-md-9.col-12 > div > div.grid-view.mt-4 > div:nth-child({i}) > a > div > img\").click()\n",
    "\n",
    "    sleep (2)\n",
    "\n",
    "    #Extracción de cada uno de sus elementos\n",
    "\n",
    "    titulo = driver.find_element (\"xpath\", '//*[@id=\"app\"]/div[1]/main/div/div/div/div[3]/div/div[2]/div/h1').text\n",
    "    \n",
    "    sleep (2)\n",
    "    autor = driver.find_element (\"xpath\", '//*[@id=\"app\"]/div[1]/main/div/div/div/div[3]/div/div[2]/div/div[2]/div/a/span[1]').text\n",
    "    \n",
    "    sleep (2)\n",
    "    precio = driver.find_element (\"xpath\", '//*[@id=\"app\"]/div[1]/main/div/div/div/div[3]/div/div[3]/div/div[3]/div[1]/strong').text\n",
    "    \n",
    "    sleep (2)\n",
    "    editorial = driver.find_element (\"xpath\", '//*[@id=\"app\"]/div[1]/main/div/div/div/div[7]/div/div[2]/div/div[2]/div[2]/span').text\n",
    "    \n",
    "    sleep (2)\n",
    "    idioma = driver.find_element (\"xpath\", '//*[@id=\"app\"]/div[1]/main/div/div/div/div[7]/div/div[2]/div/div[3]/div[2]/span').text\n",
    "    \n",
    "    sleep (2)\n",
    "    paginas = driver.find_element (\"xpath\", '//*[@id=\"app\"]/div[1]/main/div/div/div/div[7]/div/div[2]/div/div[1]/div[2]/span').text\n",
    "    \n",
    "    diccionario_libros[\"titulo\"]. append (titulo)\n",
    "    diccionario_libros[\"autor\"]. append (autor)\n",
    "    diccionario_libros[\"precio\"]. append (precio)\n",
    "    diccionario_libros[\"editorial\"]. append (editorial)\n",
    "    diccionario_libros[\"idioma\"]. append (idioma)\n",
    "    diccionario_libros[\"nro_paginas\"]. append (paginas)\n",
    "        \n",
    "    sleep (2)\n",
    "    driver.back()\n",
    "    \n",
    "    #except NameError:\n",
    "        #continue\n",
    "    \n",
    "    #except NoSuchElementException:\n",
    "        #pass\n",
    "   \n",
    "driver.close()\n",
    "\n",
    "diccionario_libros"
   ]
  },
  {
   "cell_type": "code",
   "execution_count": null,
   "metadata": {},
   "outputs": [],
   "source": [
    "# ACCEDER A LIBROS \n",
    "\n",
    "# CSS SELECTOR -- cambia por índice\n",
    "1 = #buscadorNF > div.col-md-9.col-12 > div > div.grid-view.mt-4 > div:nth-child(1) > a > div > img\n",
    "2 = #buscadorNF > div.col-md-9.col-12 > div > div.grid-view.mt-4 > div:nth-child(2) > a > div > img\n",
    "3 = #buscadorNF > div.col-md-9.col-12 > div > div.grid-view.mt-4 > div:nth-child(3) > a > div > img\n",
    "4 = #buscadorNF > div.col-md-9.col-12 > div > div.grid-view.mt-4 > div:nth-child(4) > a > div > img\n",
    "\n",
    "# XPATH - cambia por índice\n",
    "1 = //*[@id=\"buscadorNF\"]/div[3]/div/div[3]/div[1]/a/div/img\n",
    "2 = //*[@id=\"buscadorNF\"]/div[3]/div/div[3]/div[2]/a/div/img\n",
    "4 = //*[@id=\"buscadorNF\"]/div[3]/div/div[3]/div[4]/a/div/img\n",
    "\n",
    "# IDIOMA\n",
    "#CSS selector  SAME\n",
    "1= #app > div.v-application--wrap > main > div > div > div > div:nth-child(7) > div > div:nth-child(2) > div > div:nth-child(3) > div:nth-child(2) > span\n",
    "5 = #app > div.v-application--wrap > main > div > div > div > div:nth-child(7) > div > div:nth-child(2) > div > div:nth-child(3) > div:nth-child(2) > span\n",
    "7 = #app > div.v-application--wrap > main > div > div > div > div:nth-child(7) > div > div:nth-child(2) > div > div:nth-child(3) > div:nth-child(2) > span\n",
    "\n",
    "#Xpath\n",
    "1=  //*[@id=\"app\"]/div[1]/main/div/div/div/div[7]/div/div[2]/div/div[3]/div[2]/span\n",
    "5 = //*[@id=\"app\"]/div[1]/main/div/div/div/div[7]/div/div[2]/div/div[3]/div[2]/span\n",
    "7 = //*[@id=\"app\"]/div[1]/main/div/div/div/div[7]/div/div[2]/div/div[3]/div[2]/span\n"
   ]
  },
  {
   "cell_type": "markdown",
   "metadata": {},
   "source": [
    "### V2 - CAMBIOS - de selector a xpath y viceversa + aumento de sleep --- Funciona a veces sí con uno y no con otro o con el mismo unas veces sí y otras no"
   ]
  },
  {
   "cell_type": "code",
   "execution_count": 6,
   "metadata": {},
   "outputs": [
    {
     "ename": "NoSuchElementException",
     "evalue": "Message: no such element: Unable to locate element: {\"method\":\"xpath\",\"selector\":\"//*[@id=\"app\"]/div[1]/main/div/div/div/div[7]/div/div[2]/div/div[3]/div[2]/span\"}\n  (Session info: chrome=118.0.5993.118); For documentation on this error, please visit: https://www.selenium.dev/documentation/webdriver/troubleshooting/errors#no-such-element-exception\nStacktrace:\n\tGetHandleVerifier [0x00007FF63CCE8EF2+54786]\n\t(No symbol) [0x00007FF63CC55612]\n\t(No symbol) [0x00007FF63CB0A64B]\n\t(No symbol) [0x00007FF63CB4B79C]\n\t(No symbol) [0x00007FF63CB4B91C]\n\t(No symbol) [0x00007FF63CB86D87]\n\t(No symbol) [0x00007FF63CB6BEAF]\n\t(No symbol) [0x00007FF63CB84D02]\n\t(No symbol) [0x00007FF63CB6BC43]\n\t(No symbol) [0x00007FF63CB40941]\n\t(No symbol) [0x00007FF63CB41B84]\n\tGetHandleVerifier [0x00007FF63D037F52+3524194]\n\tGetHandleVerifier [0x00007FF63D08D800+3874576]\n\tGetHandleVerifier [0x00007FF63D085D7F+3843215]\n\tGetHandleVerifier [0x00007FF63CD85086+694166]\n\t(No symbol) [0x00007FF63CC60A88]\n\t(No symbol) [0x00007FF63CC5CA94]\n\t(No symbol) [0x00007FF63CC5CBC2]\n\t(No symbol) [0x00007FF63CC4CC83]\n\tBaseThreadInitThunk [0x00007FFE57DF7344+20]\n\tRtlUserThreadStart [0x00007FFE593426B1+33]\n",
     "output_type": "error",
     "traceback": [
      "\u001b[1;31m---------------------------------------------------------------------------\u001b[0m",
      "\u001b[1;31mNoSuchElementException\u001b[0m                    Traceback (most recent call last)",
      "\u001b[1;32mc:\\Users\\ElenaGuillén\\Desktop\\Adalab\\Módulo 2\\Terminal\\da-modulo2-sprint1-pairprogramming_Rocio_ElenaG\\Selenium.ipynb Cell 7\u001b[0m line \u001b[0;36m5\n\u001b[0;32m     <a href='vscode-notebook-cell:/c%3A/Users/ElenaGuill%C3%A9n/Desktop/Adalab/M%C3%B3dulo%202/Terminal/da-modulo2-sprint1-pairprogramming_Rocio_ElenaG/Selenium.ipynb#W6sZmlsZQ%3D%3D?line=49'>50</a>\u001b[0m editorial \u001b[39m=\u001b[39m driver\u001b[39m.\u001b[39mfind_element (\u001b[39m\"\u001b[39m\u001b[39mxpath\u001b[39m\u001b[39m\"\u001b[39m, \u001b[39m'\u001b[39m\u001b[39m//*[@id=\u001b[39m\u001b[39m\"\u001b[39m\u001b[39mapp\u001b[39m\u001b[39m\"\u001b[39m\u001b[39m]/div[1]/main/div/div/div/div[3]/div/div[2]/div/div[4]/div[1]/span[1]\u001b[39m\u001b[39m'\u001b[39m)\u001b[39m.\u001b[39mtext \u001b[39m#Cojo la editorial de otro sitio (en la sección de arriba)\u001b[39;00m\n\u001b[0;32m     <a href='vscode-notebook-cell:/c%3A/Users/ElenaGuill%C3%A9n/Desktop/Adalab/M%C3%B3dulo%202/Terminal/da-modulo2-sprint1-pairprogramming_Rocio_ElenaG/Selenium.ipynb#W6sZmlsZQ%3D%3D?line=51'>52</a>\u001b[0m sleep (\u001b[39m5\u001b[39m)\n\u001b[1;32m---> <a href='vscode-notebook-cell:/c%3A/Users/ElenaGuill%C3%A9n/Desktop/Adalab/M%C3%B3dulo%202/Terminal/da-modulo2-sprint1-pairprogramming_Rocio_ElenaG/Selenium.ipynb#W6sZmlsZQ%3D%3D?line=52'>53</a>\u001b[0m idioma \u001b[39m=\u001b[39m driver\u001b[39m.\u001b[39;49mfind_element (\u001b[39m\"\u001b[39;49m\u001b[39mxpath\u001b[39;49m\u001b[39m\"\u001b[39;49m, \u001b[39m'\u001b[39;49m\u001b[39m//*[@id=\u001b[39;49m\u001b[39m\"\u001b[39;49m\u001b[39mapp\u001b[39;49m\u001b[39m\"\u001b[39;49m\u001b[39m]/div[1]/main/div/div/div/div[7]/div/div[2]/div/div[3]/div[2]/span\u001b[39;49m\u001b[39m'\u001b[39;49m)\u001b[39m.\u001b[39mtext \u001b[39m#cambio al css slector y vuelta al Xpath pq me da problemas con el 5 libro\u001b[39;00m\n\u001b[0;32m     <a href='vscode-notebook-cell:/c%3A/Users/ElenaGuill%C3%A9n/Desktop/Adalab/M%C3%B3dulo%202/Terminal/da-modulo2-sprint1-pairprogramming_Rocio_ElenaG/Selenium.ipynb#W6sZmlsZQ%3D%3D?line=54'>55</a>\u001b[0m sleep (\u001b[39m3\u001b[39m)\n\u001b[0;32m     <a href='vscode-notebook-cell:/c%3A/Users/ElenaGuill%C3%A9n/Desktop/Adalab/M%C3%B3dulo%202/Terminal/da-modulo2-sprint1-pairprogramming_Rocio_ElenaG/Selenium.ipynb#W6sZmlsZQ%3D%3D?line=55'>56</a>\u001b[0m paginas \u001b[39m=\u001b[39m driver\u001b[39m.\u001b[39mfind_element (\u001b[39m\"\u001b[39m\u001b[39mcss selector\u001b[39m\u001b[39m\"\u001b[39m, \u001b[39m'\u001b[39m\u001b[39m#app > div.v-application--wrap > main > div > div > div > div:nth-child(8) > div > div:nth-child(2) > div > div:nth-child(1) > div:nth-child(2) > span\u001b[39m\u001b[39m'\u001b[39m)\u001b[39m.\u001b[39mtext \u001b[39m#cambio de xpath a css slector\u001b[39;00m\n",
      "File \u001b[1;32m~\\AppData\\Local\\Packages\\PythonSoftwareFoundation.Python.3.11_qbz5n2kfra8p0\\LocalCache\\local-packages\\Python311\\site-packages\\selenium\\webdriver\\remote\\webdriver.py:738\u001b[0m, in \u001b[0;36mWebDriver.find_element\u001b[1;34m(self, by, value)\u001b[0m\n\u001b[0;32m    735\u001b[0m     by \u001b[39m=\u001b[39m By\u001b[39m.\u001b[39mCSS_SELECTOR\n\u001b[0;32m    736\u001b[0m     value \u001b[39m=\u001b[39m \u001b[39mf\u001b[39m\u001b[39m'\u001b[39m\u001b[39m[name=\u001b[39m\u001b[39m\"\u001b[39m\u001b[39m{\u001b[39;00mvalue\u001b[39m}\u001b[39;00m\u001b[39m\"\u001b[39m\u001b[39m]\u001b[39m\u001b[39m'\u001b[39m\n\u001b[1;32m--> 738\u001b[0m \u001b[39mreturn\u001b[39;00m \u001b[39mself\u001b[39;49m\u001b[39m.\u001b[39;49mexecute(Command\u001b[39m.\u001b[39;49mFIND_ELEMENT, {\u001b[39m\"\u001b[39;49m\u001b[39musing\u001b[39;49m\u001b[39m\"\u001b[39;49m: by, \u001b[39m\"\u001b[39;49m\u001b[39mvalue\u001b[39;49m\u001b[39m\"\u001b[39;49m: value})[\u001b[39m\"\u001b[39m\u001b[39mvalue\u001b[39m\u001b[39m\"\u001b[39m]\n",
      "File \u001b[1;32m~\\AppData\\Local\\Packages\\PythonSoftwareFoundation.Python.3.11_qbz5n2kfra8p0\\LocalCache\\local-packages\\Python311\\site-packages\\selenium\\webdriver\\remote\\webdriver.py:344\u001b[0m, in \u001b[0;36mWebDriver.execute\u001b[1;34m(self, driver_command, params)\u001b[0m\n\u001b[0;32m    342\u001b[0m response \u001b[39m=\u001b[39m \u001b[39mself\u001b[39m\u001b[39m.\u001b[39mcommand_executor\u001b[39m.\u001b[39mexecute(driver_command, params)\n\u001b[0;32m    343\u001b[0m \u001b[39mif\u001b[39;00m response:\n\u001b[1;32m--> 344\u001b[0m     \u001b[39mself\u001b[39;49m\u001b[39m.\u001b[39;49merror_handler\u001b[39m.\u001b[39;49mcheck_response(response)\n\u001b[0;32m    345\u001b[0m     response[\u001b[39m\"\u001b[39m\u001b[39mvalue\u001b[39m\u001b[39m\"\u001b[39m] \u001b[39m=\u001b[39m \u001b[39mself\u001b[39m\u001b[39m.\u001b[39m_unwrap_value(response\u001b[39m.\u001b[39mget(\u001b[39m\"\u001b[39m\u001b[39mvalue\u001b[39m\u001b[39m\"\u001b[39m, \u001b[39mNone\u001b[39;00m))\n\u001b[0;32m    346\u001b[0m     \u001b[39mreturn\u001b[39;00m response\n",
      "File \u001b[1;32m~\\AppData\\Local\\Packages\\PythonSoftwareFoundation.Python.3.11_qbz5n2kfra8p0\\LocalCache\\local-packages\\Python311\\site-packages\\selenium\\webdriver\\remote\\errorhandler.py:229\u001b[0m, in \u001b[0;36mErrorHandler.check_response\u001b[1;34m(self, response)\u001b[0m\n\u001b[0;32m    227\u001b[0m         alert_text \u001b[39m=\u001b[39m value[\u001b[39m\"\u001b[39m\u001b[39malert\u001b[39m\u001b[39m\"\u001b[39m]\u001b[39m.\u001b[39mget(\u001b[39m\"\u001b[39m\u001b[39mtext\u001b[39m\u001b[39m\"\u001b[39m)\n\u001b[0;32m    228\u001b[0m     \u001b[39mraise\u001b[39;00m exception_class(message, screen, stacktrace, alert_text)  \u001b[39m# type: ignore[call-arg]  # mypy is not smart enough here\u001b[39;00m\n\u001b[1;32m--> 229\u001b[0m \u001b[39mraise\u001b[39;00m exception_class(message, screen, stacktrace)\n",
      "\u001b[1;31mNoSuchElementException\u001b[0m: Message: no such element: Unable to locate element: {\"method\":\"xpath\",\"selector\":\"//*[@id=\"app\"]/div[1]/main/div/div/div/div[7]/div/div[2]/div/div[3]/div[2]/span\"}\n  (Session info: chrome=118.0.5993.118); For documentation on this error, please visit: https://www.selenium.dev/documentation/webdriver/troubleshooting/errors#no-such-element-exception\nStacktrace:\n\tGetHandleVerifier [0x00007FF63CCE8EF2+54786]\n\t(No symbol) [0x00007FF63CC55612]\n\t(No symbol) [0x00007FF63CB0A64B]\n\t(No symbol) [0x00007FF63CB4B79C]\n\t(No symbol) [0x00007FF63CB4B91C]\n\t(No symbol) [0x00007FF63CB86D87]\n\t(No symbol) [0x00007FF63CB6BEAF]\n\t(No symbol) [0x00007FF63CB84D02]\n\t(No symbol) [0x00007FF63CB6BC43]\n\t(No symbol) [0x00007FF63CB40941]\n\t(No symbol) [0x00007FF63CB41B84]\n\tGetHandleVerifier [0x00007FF63D037F52+3524194]\n\tGetHandleVerifier [0x00007FF63D08D800+3874576]\n\tGetHandleVerifier [0x00007FF63D085D7F+3843215]\n\tGetHandleVerifier [0x00007FF63CD85086+694166]\n\t(No symbol) [0x00007FF63CC60A88]\n\t(No symbol) [0x00007FF63CC5CA94]\n\t(No symbol) [0x00007FF63CC5CBC2]\n\t(No symbol) [0x00007FF63CC4CC83]\n\tBaseThreadInitThunk [0x00007FFE57DF7344+20]\n\tRtlUserThreadStart [0x00007FFE593426B1+33]\n"
     ]
    }
   ],
   "source": [
    "driver = webdriver.Chrome() #1. lo que le estamos diciendo es que nos abra un navegador\n",
    "\n",
    "driver.get(\"https://www.casadellibro.com/\") #2. la web q qremos q habra\n",
    "\n",
    "driver.maximize_window()\n",
    "\n",
    "sleep (2)\n",
    "#Aceptar cookies\n",
    "driver.find_element (\"css selector\", \"#onetrust-accept-btn-handler\").click () \n",
    "\n",
    "sleep (2)\n",
    "#Libros ficción\n",
    "driver.find_element (\"css selector\", \"#app > div.v-application--wrap > div.when-mobile > div.cabecera.desktop > div.bottom-row > div > div > div:nth-child(2) > a\").click () # Vamos a la sección de ficción\n",
    "\n",
    "sleep (2)\n",
    "\n",
    "diccionario_libros = {\n",
    "    \"titulo\": [],\n",
    "    \"autor\": [],\n",
    "    \"precio\": [],\n",
    "    \"editorial\": [],\n",
    "    \"idioma\": [],\n",
    "    \"nro_paginas\": []\n",
    "}\n",
    "\n",
    "#Scroll\n",
    "driver.execute_script(\"window.scrollTo(0, 1000)\")\n",
    "\n",
    "sleep (2)\n",
    "\n",
    "for i in range(4,21): #Iteramos por cada libro de la primera página\n",
    "    \n",
    "    sleep (3)\n",
    "    #Seleción del libro para acceder a su información \n",
    "    driver.find_element(\"xpath\", f'//*[@id=\"buscadorNF\"]/div[3]/div/div[3]/div[{i}]/a/div/img').click() # Cambio de selector a xpath\n",
    "\n",
    "    sleep (3)\n",
    "\n",
    "    #Extracción de cada uno de sus elementos\n",
    "\n",
    "    titulo = driver.find_element (\"css selector\", '#app > div.v-application--wrap > main > div > div > div > div:nth-child(3) > div > div.col-md-5.order-lg-2.col-12.order-1 > div > h1').text #cambio a css slector\n",
    "    \n",
    "    sleep (3)\n",
    "    autor = driver.find_element (\"xpath\", '//*[@id=\"app\"]/div[1]/main/div/div/div/div[3]/div/div[2]/div/div[2]/div/a/span[1]').text\n",
    "    \n",
    "    sleep (3)\n",
    "    precio = driver.find_element (\"xpath\", '//*[@id=\"app\"]/div[1]/main/div/div/div/div[3]/div/div[3]/div/div[3]/div[1]/strong').text\n",
    "    \n",
    "    sleep (3)\n",
    "    editorial = driver.find_element (\"xpath\", '//*[@id=\"app\"]/div[1]/main/div/div/div/div[3]/div/div[2]/div/div[4]/div[1]/span[1]').text #Cojo la editorial de otro sitio (en la sección de arriba)\n",
    "    \n",
    "    sleep (5)\n",
    "    idioma = driver.find_element (\"xpath\", '//*[@id=\"app\"]/div[1]/main/div/div/div/div[7]/div/div[2]/div/div[3]/div[2]/span').text #cambio al css slector y vuelta al Xpath pq me da problemas con el 5 libro\n",
    "    \n",
    "    sleep (3)\n",
    "    paginas = driver.find_element (\"css selector\", '#app > div.v-application--wrap > main > div > div > div > div:nth-child(8) > div > div:nth-child(2) > div > div:nth-child(1) > div:nth-child(2) > span').text #cambio de xpath a css slector\n",
    "    \n",
    "    diccionario_libros[\"titulo\"]. append (titulo)\n",
    "    diccionario_libros[\"autor\"]. append (autor)\n",
    "    diccionario_libros[\"precio\"]. append (precio)\n",
    "    diccionario_libros[\"editorial\"]. append (editorial)\n",
    "    diccionario_libros[\"idioma\"]. append (idioma)\n",
    "    diccionario_libros[\"nro_paginas\"]. append (paginas)\n",
    "        \n",
    "    sleep (2)\n",
    "    driver.back()\n",
    "    \n",
    "    #except NameError:\n",
    "        #continue\n",
    "    \n",
    "    #except NoSuchElementException:\n",
    "        #pass\n",
    "   \n",
    "driver.close()\n",
    "\n",
    "diccionario_libros"
   ]
  },
  {
   "cell_type": "code",
   "execution_count": null,
   "metadata": {},
   "outputs": [],
   "source": []
  },
  {
   "cell_type": "code",
   "execution_count": null,
   "metadata": {},
   "outputs": [],
   "source": [
    "pf = pd.DataFrame(diccionario_libros)"
   ]
  },
  {
   "cell_type": "code",
   "execution_count": null,
   "metadata": {},
   "outputs": [
    {
     "data": {
      "text/html": [
       "<div>\n",
       "<style scoped>\n",
       "    .dataframe tbody tr th:only-of-type {\n",
       "        vertical-align: middle;\n",
       "    }\n",
       "\n",
       "    .dataframe tbody tr th {\n",
       "        vertical-align: top;\n",
       "    }\n",
       "\n",
       "    .dataframe thead th {\n",
       "        text-align: right;\n",
       "    }\n",
       "</style>\n",
       "<table border=\"1\" class=\"dataframe\">\n",
       "  <thead>\n",
       "    <tr style=\"text-align: right;\">\n",
       "      <th></th>\n",
       "      <th>titulo</th>\n",
       "      <th>autor</th>\n",
       "      <th>precio</th>\n",
       "      <th>editorial</th>\n",
       "      <th>idioma</th>\n",
       "      <th>nro_paginas</th>\n",
       "    </tr>\n",
       "  </thead>\n",
       "  <tbody>\n",
       "  </tbody>\n",
       "</table>\n",
       "</div>"
      ],
      "text/plain": [
       "Empty DataFrame\n",
       "Columns: [titulo, autor, precio, editorial, idioma, nro_paginas]\n",
       "Index: []"
      ]
     },
     "execution_count": 8,
     "metadata": {},
     "output_type": "execute_result"
    }
   ],
   "source": [
    "pf.head(5)"
   ]
  },
  {
   "cell_type": "code",
   "execution_count": null,
   "metadata": {},
   "outputs": [],
   "source": []
  },
  {
   "cell_type": "code",
   "execution_count": null,
   "metadata": {},
   "outputs": [
    {
     "name": "stdout",
     "output_type": "stream",
     "text": [
      "1\n",
      "4\n",
      "7\n",
      "10\n",
      "13\n",
      "16\n",
      "19\n"
     ]
    }
   ],
   "source": [
    "for i in range (1,20,3):\n",
    "    print (i)"
   ]
  },
  {
   "cell_type": "code",
   "execution_count": null,
   "metadata": {},
   "outputs": [],
   "source": [
    "#for i in range (1,6):\n",
    "driver.find_element(\"css selector\", \"#app > div > div > div > div.plp-view__content > div.plp-view__right > div:nth-child(3) > div > div > ul > li:nth-child({i}) > div > div.search-product-card__top-section > div.search-product-card__top-section-content > a.search-product-card__product-link > p\").click()\n",
    "\n",
    "sleep (2)\n",
    "\n",
    "acceder_libro = driver.find_element (\"css selector\", \"#app > div.v-application--wrap > main > div > div > div > div:nth-child(3) > div > div:nth-child(2) > div > div.swiper > div:nth-child(1) > a > div > img\").click()\n",
    "\n",
    "titulo = driver.find_element (\"css selector\", \"#app > div.v-application--wrap > main > div > div > div > div:nth-child(3) > div > div.col-md-5.order-lg-2.col-12.order-1 > div > h1\").click ()\n",
    "autor = driver.find_element (\"css selector\", \"#app > div.v-application--wrap > main > div > div > div > div:nth-child(3) > div > div.col-md-5.order-lg-2.col-12.order-1 > div > div.text-h5.d-flex.flex-wrap.author.mb-2.justify-center.justify-sm-start > div > a > span:nth-child(1)\").click ()\n",
    "precio = driver.find_element (\"css selector\", \"#app > div.v-application--wrap > main > div > div > div > div:nth-child(3) > div > div.border-left.col-md-4.col-12.order-3 > div > div:nth-child(3) > div.col.col-8 > strong\").click ()\n",
    "editorial = driver.find_element (\"css selector\", \"#app > div.v-application--wrap > main > div > div > div > div:nth-child(7) > div > div:nth-child(2) > div > div:nth-child(2) > div:nth-child(2) > span\").click ()\n",
    "idioma = driver.find_element (\"css selector\", \"#app > div.v-application--wrap > main > div > div > div > div:nth-child(7) > div > div:nth-child(2) > div > div:nth-child(3) > div:nth-child(2) > span\").click ()\n",
    "paginas = driver.find_element (\"css selector\", \"#app > div.v-application--wrap > main > div > div > div > div:nth-child(7) > div > div:nth-child(2) > div > div:nth-child(1) > div:nth-child(2) > span\").click ()\n",
    "\n",
    "resultados = (titulo, autor, precio, editorial, idioma, paginas)\n",
    "\n",
    "resultados\n",
    "\n",
    "#app > div.v-application--wrap > div.when-mobile > div.cabecera.desktop > div.bottom-row > div > div > div:nth-child(2) > a\n",
    "\n",
    "#sleep (5) # ***Con esto añado esto para que entre cada acción exper3 5 segundos\n",
    "\n",
    "#driver.save_screenshot(\"adalab.png\")  #5. Otra posible acción es hacer una captura de pantalla - le pongo entre paréntesis la ruta donde guardarlo\n",
    "\n",
    "#sleep (5) # ***Con esto añado esto para que entre cada acción exper3 5 segundos\n",
    "\n",
    "#driver.close ()   #6. Y con esta acción cierro el navegador\n"
   ]
  }
 ],
 "metadata": {
  "kernelspec": {
   "display_name": "base",
   "language": "python",
   "name": "python3"
  },
  "language_info": {
   "codemirror_mode": {
    "name": "ipython",
    "version": 3
   },
   "file_extension": ".py",
   "mimetype": "text/x-python",
   "name": "python",
   "nbconvert_exporter": "python",
   "pygments_lexer": "ipython3",
   "version": "3.11.6"
  }
 },
 "nbformat": 4,
 "nbformat_minor": 2
}
