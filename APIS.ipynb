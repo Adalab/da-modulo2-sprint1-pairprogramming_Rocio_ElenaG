{
 "cells": [
  {
   "cell_type": "markdown",
   "metadata": {},
   "source": [
    "## Pair programming API\n",
    "\n",
    "# Ejercicios de API's\n",
    "\n",
    "Enunciado - Obtener datos energéticos usando la API de Red Eléctrica.\n",
    "Descripción: La empresa para la que trabajamos dispone de una base de datos que contiene información sobre el número de personas censadas en las distintas Comunidades Autónomas españolas desde 1998 hasta 2022. El objetivo es enriquecer estos datos con información sobre la generación de energía renovable y no renovable, utilizando la API de REData, la cual proporciona información sobre el mercado energético en España. Puedes encontrar la documentación de la API .\n",
    "\n",
    "1. Extracción de Datos a Nivel Nacional:\n",
    "\n",
    "* Extraer datos de generación de energía renovable y no renovable a nivel nacional desde el 1 de enero de 2011 hasta el 31 de diciembre de 2022. La información debe ser recopilada a nivel mensual.\n",
    "* Transformar los datos para incluir una columna nueva que identifique si la energía es renovable o no renovable.\n",
    "* Almacenar los datos en un DataFrame con la siguiente estructura:\n",
    "\n",
    "tipo_energia | tipo_generacion | fecha | valor\n",
    "\n"
   ]
  },
  {
   "cell_type": "code",
   "execution_count": 19,
   "metadata": {},
   "outputs": [
    {
     "name": "stdout",
     "output_type": "stream",
     "text": [
      "La respuesta ha sido 200\n",
      "<class 'dict'>\n"
     ]
    },
    {
     "data": {
      "text/plain": [
       "dict_keys(['data', 'included'])"
      ]
     },
     "execution_count": 19,
     "metadata": {},
     "output_type": "execute_result"
    }
   ],
   "source": [
    "import requests\n",
    "import pandas as pd\n",
    "\n",
    "dict_redelect = {'tipo_energia':[],\n",
    "                 'tipo_generacion':[],\n",
    "                 'fecha':[],#json_ej_2011['included'][0]['attributes']['values'][0]['day_time']\n",
    "                 'valor' : []#json_ej_2011['included'][0]['attributes']['values'][0]['value']\n",
    "                 }\n",
    "\n",
    "\n",
    "url_2011 = 'https://apidatos.ree.es/es/datos/generacion/evolucion-renovable-no-renovable?start_date=2011-01-01T00:00&end_date=2011-12-31T23:59&time_trunc=month'\n",
    "\n",
    "res_2011 = requests.get(url_2011)\n",
    "\n",
    "print (f'La respuesta ha sido {res_2011.status_code}')\n",
    "\n",
    "\n",
    "json_ej_2011 = res_2011.json()\n",
    "print (type(json_ej_2011))\n",
    "\n",
    "json_ej_2011.keys() # data, included\n",
    "\n",
    "\n",
    "\n",
    "\n"
   ]
  },
  {
   "cell_type": "code",
   "execution_count": 21,
   "metadata": {},
   "outputs": [
    {
     "name": "stdout",
     "output_type": "stream",
     "text": [
      "{'type': 'Evolución de la generación renovable/no renovable', 'id': 'gen2', 'attributes': {'title': 'Evolución de la generación renovable/no renovable', 'last-update': '2019-06-12T15:32:24.000+02:00', 'description': None}, 'meta': {'cache-control': {'cache': 'HIT', 'expireAt': '2023-11-24T08:41:25'}}}\n"
     ]
    },
    {
     "data": {
      "text/plain": [
       "[{'type': 'Renovable',\n",
       "  'id': '10299',\n",
       "  'groupId': None,\n",
       "  'attributes': {'title': 'Renovable',\n",
       "   'description': 'Energía renovable: incluye hidráulica, hidroeólica, eólica, solar fotovoltaica, solar térmica, otras renovables y residuos renovables.',\n",
       "   'color': '#92d050',\n",
       "   'type': 'Renovable',\n",
       "   'magnitude': None,\n",
       "   'composite': False,\n",
       "   'last-update': '2019-06-12T15:32:24.000+02:00',\n",
       "   'values': [{'value': 9918268.536,\n",
       "     'percentage': 0.3827907635999176,\n",
       "     'datetime': '2011-01-01T00:00:00.000+01:00'},\n",
       "    {'value': 7991499.8525,\n",
       "     'percentage': 0.34539728666246566,\n",
       "     'datetime': '2011-02-01T00:00:00.000+01:00'},\n",
       "    {'value': 9606067.697,\n",
       "     'percentage': 0.38313491871765465,\n",
       "     'datetime': '2011-03-01T00:00:00.000+01:00'},\n",
       "    {'value': 8123455.767,\n",
       "     'percentage': 0.374645327606978,\n",
       "     'datetime': '2011-04-01T00:00:00.000+02:00'},\n",
       "    {'value': 7251163.8615,\n",
       "     'percentage': 0.3315832492156598,\n",
       "     'datetime': '2011-05-01T00:00:00.000+02:00'},\n",
       "    {'value': 6452804.794,\n",
       "     'percentage': 0.28622384987819477,\n",
       "     'datetime': '2011-06-01T00:00:00.000+02:00'},\n",
       "    {'value': 6498576.444,\n",
       "     'percentage': 0.2712500834748904,\n",
       "     'datetime': '2011-07-01T00:00:00.000+02:00'},\n",
       "    {'value': 5727787.99,\n",
       "     'percentage': 0.24520399433014006,\n",
       "     'datetime': '2011-08-01T00:00:00.000+02:00'},\n",
       "    {'value': 4933369.656,\n",
       "     'percentage': 0.21408577261430467,\n",
       "     'datetime': '2011-09-01T00:00:00.000+02:00'},\n",
       "    {'value': 5622637.3765,\n",
       "     'percentage': 0.25282066301127765,\n",
       "     'datetime': '2011-10-01T00:00:00.000+02:00'},\n",
       "    {'value': 6825133.5855,\n",
       "     'percentage': 0.3015785344449875,\n",
       "     'datetime': '2011-11-01T00:00:00.000+01:00'},\n",
       "    {'value': 7716287.29,\n",
       "     'percentage': 0.32277637531821257,\n",
       "     'datetime': '2011-12-01T00:00:00.000+01:00'}]}},\n",
       " {'type': 'No renovable',\n",
       "  'id': '10298',\n",
       "  'groupId': None,\n",
       "  'attributes': {'title': 'No renovable',\n",
       "   'description': None,\n",
       "   'color': '#666666',\n",
       "   'type': 'No renovable',\n",
       "   'magnitude': None,\n",
       "   'composite': False,\n",
       "   'last-update': '2019-06-12T15:32:24.000+02:00',\n",
       "   'values': [{'value': 15992149.058,\n",
       "     'percentage': 0.6172092364000824,\n",
       "     'datetime': '2011-01-01T00:00:00.000+01:00'},\n",
       "    {'value': 15145624.1525,\n",
       "     'percentage': 0.6546027133375344,\n",
       "     'datetime': '2011-02-01T00:00:00.000+01:00'},\n",
       "    {'value': 15466216.837,\n",
       "     'percentage': 0.6168650812823453,\n",
       "     'datetime': '2011-03-01T00:00:00.000+01:00'},\n",
       "    {'value': 13559600.629,\n",
       "     'percentage': 0.625354672393022,\n",
       "     'datetime': '2011-04-01T00:00:00.000+02:00'},\n",
       "    {'value': 14617141.8465,\n",
       "     'percentage': 0.6684167507843402,\n",
       "     'datetime': '2011-05-01T00:00:00.000+02:00'},\n",
       "    {'value': 16091804.248,\n",
       "     'percentage': 0.7137761501218053,\n",
       "     'datetime': '2011-06-01T00:00:00.000+02:00'},\n",
       "    {'value': 17459301.691,\n",
       "     'percentage': 0.7287499165251097,\n",
       "     'datetime': '2011-07-01T00:00:00.000+02:00'},\n",
       "    {'value': 17631488.867,\n",
       "     'percentage': 0.7547960056698598,\n",
       "     'datetime': '2011-08-01T00:00:00.000+02:00'},\n",
       "    {'value': 18110523.433,\n",
       "     'percentage': 0.7859142273856954,\n",
       "     'datetime': '2011-09-01T00:00:00.000+02:00'},\n",
       "    {'value': 16616990.1505,\n",
       "     'percentage': 0.7471793369887224,\n",
       "     'datetime': '2011-10-01T00:00:00.000+02:00'},\n",
       "    {'value': 15806230.4075,\n",
       "     'percentage': 0.6984214655550125,\n",
       "     'datetime': '2011-11-01T00:00:00.000+01:00'},\n",
       "    {'value': 16189698.03,\n",
       "     'percentage': 0.6772236246817874,\n",
       "     'datetime': '2011-12-01T00:00:00.000+01:00'}]}}]"
      ]
     },
     "execution_count": 21,
     "metadata": {},
     "output_type": "execute_result"
    }
   ],
   "source": [
    "print (json_ej_1['data'])\n",
    "json_ej_1['included'] #tipo generación = type"
   ]
  },
  {
   "cell_type": "code",
   "execution_count": 35,
   "metadata": {},
   "outputs": [
    {
     "data": {
      "text/plain": [
       "'2011-01-01T00:00:00.000+01:00'"
      ]
     },
     "execution_count": 35,
     "metadata": {},
     "output_type": "execute_result"
    }
   ],
   "source": [
    "json_ej_1['included'][0]['attributes']['values'][0]['value']\n",
    "json_ej_1['included'][0]['attributes']['values'][0]['datetime']"
   ]
  },
  {
   "cell_type": "markdown",
   "metadata": {},
   "source": [
    "2. Extracción de Datos por Comunidad Autónoma:\n",
    "\n",
    "* Extraer datos de generación de energía renovable y no renovable por Comunidad Autónoma.\n",
    "* Utilizar el diccionario cod_comunidades para obtener los códigos de cada comunidad autónoma.\n",
    "* Transformar los datos para incluir una columna que especifique la comunidad autónoma y su identificador.\n",
    "* Almacenar los datos en un DataFrame con la siguiente estructura:\n",
    "tipo_energia | tipo_generacion | fecha | valor"
   ]
  }
 ],
 "metadata": {
  "kernelspec": {
   "display_name": "base",
   "language": "python",
   "name": "python3"
  },
  "language_info": {
   "name": "python",
   "version": "3.9.7"
  }
 },
 "nbformat": 4,
 "nbformat_minor": 2
}
