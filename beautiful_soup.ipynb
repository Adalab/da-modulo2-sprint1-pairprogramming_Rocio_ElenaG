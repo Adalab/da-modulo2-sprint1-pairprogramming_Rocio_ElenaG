{
 "cells": [
  {
   "cell_type": "markdown",
   "metadata": {},
   "source": [
    "### Beautiful Soup\n",
    "Escribe una función llamada scrape_coches_ocasion que acepta una URL como argumento y devuelve un DataFrame de pandas con información sobre coches de ocasión encontrados en la página web especificada. La función realizará las siguientes tareas:\n",
    "- Realizará una solicitud HTTP GET a la \n",
    "- Comprobará el código de estado de la respuesta. Si el código no es 200 (OK), imprimirá un mensaje de error y retornará None.\n",
    "- Extraerá los nombres de los coches, los precios rebajados, los precios originales y la información de los kilómetros recorridos de la página\n",
    "- Organizará los datos extraídos en un DataFrame de pandas con las siguientes columnas:\n",
    "        \"coche\": Nombres de los coches.\n",
    "        \"precio_rebajado\": Precios rebajados\n",
    "        \"precio_original\": Precios originales\n",
    "        \"km\": Kilómetros recorridos\n",
    "- Retornará el DataFrame resultante\n",
    "- Una vez extraida toda la información deberéis almacenar toda la información en un DataFrame\n",
    "\n"
   ]
  },
  {
   "cell_type": "code",
   "execution_count": 3,
   "metadata": {},
   "outputs": [],
   "source": [
    "import requests\n",
    "import pandas as pd\n",
    "from bs4 import BeautifulSoup"
   ]
  },
  {
   "cell_type": "code",
   "execution_count": 4,
   "metadata": {},
   "outputs": [
    {
     "name": "stdout",
     "output_type": "stream",
     "text": [
      "La respuesta de la petición es: 200\n"
     ]
    }
   ],
   "source": [
    "url_coches = \"https://www.ocasionplus.com/coches-ocasion?type%3DCAR%26sort%3DFECHAOP_DESC%26page%3D2\"\n",
    "coches = requests.get(url_coches)\n",
    "print(\"La respuesta de la petición es:\", coches.status_code)"
   ]
  },
  {
   "cell_type": "code",
   "execution_count": 5,
   "metadata": {},
   "outputs": [],
   "source": [
    "coches_soup = BeautifulSoup(coches.content, 'html.parser')\n",
    "#coches_soup\n",
    "#print (coches_soup.prettify())"
   ]
  },
  {
   "cell_type": "code",
   "execution_count": 6,
   "metadata": {},
   "outputs": [
    {
     "data": {
      "text/plain": [
       "[<h2 style=\"overflow-x:hidden\">SEAT Leon ST 1.2 TSI S&amp;S Style (110 CV)</h2>,\n",
       " <h2 style=\"overflow-x:hidden\">Peugeot 2008 SUV BlueHDi 100 Allure (100 CV)</h2>,\n",
       " <h2 style=\"overflow-x:hidden\">Toyota C-HR 2.0 180H Advance (184 CV)</h2>,\n",
       " <h2 style=\"overflow-x:hidden\">Fiat 500C Sport Cabrio (69 CV)</h2>]"
      ]
     },
     "execution_count": 6,
     "metadata": {},
     "output_type": "execute_result"
    }
   ],
   "source": [
    "lista_nombre_coche = coches_soup.find_all (\"h2\", {\"style\": \"overflow-x:hidden\"})\n",
    "lista_nombre_coche[:4]"
   ]
  },
  {
   "cell_type": "code",
   "execution_count": 7,
   "metadata": {},
   "outputs": [
    {
     "data": {
      "text/plain": [
       "'SEAT Leon ST 1.2 TSI S&S Style (110 CV)'"
      ]
     },
     "execution_count": 7,
     "metadata": {},
     "output_type": "execute_result"
    }
   ],
   "source": [
    "lista_nombre_coche[0].text"
   ]
  },
  {
   "cell_type": "code",
   "execution_count": 8,
   "metadata": {},
   "outputs": [
    {
     "data": {
      "text/plain": [
       "['SEAT Leon ST 1.2 TSI S&S Style (110 CV)',\n",
       " 'Peugeot 2008 SUV BlueHDi 100 Allure (100 CV)',\n",
       " 'Toyota C-HR 2.0 180H Advance (184 CV)',\n",
       " 'Fiat 500C Sport Cabrio (69 CV)']"
      ]
     },
     "execution_count": 8,
     "metadata": {},
     "output_type": "execute_result"
    }
   ],
   "source": [
    "nombre_coches = []\n",
    "\n",
    "for nombre in lista_nombre_coche:\n",
    "    nombre_coches.append (nombre.text)\n",
    "nombre_coches [:4]"
   ]
  },
  {
   "cell_type": "code",
   "execution_count": 9,
   "metadata": {},
   "outputs": [
    {
     "data": {
      "text/plain": [
       "['SEAT Leon ST 1.2 TSI S&S Style (110 CV)',\n",
       " 'Peugeot 2008 SUV BlueHDi 100 Allure (100 CV)',\n",
       " 'Toyota C-HR 2.0 180H Advance (184 CV)',\n",
       " 'Fiat 500C Sport Cabrio (69 CV)']"
      ]
     },
     "execution_count": 9,
     "metadata": {},
     "output_type": "execute_result"
    }
   ],
   "source": [
    "nombre_coches2 = [nombre.text for nombre in lista_nombre_coche]\n",
    "nombre_coches2 [:4]"
   ]
  },
  {
   "cell_type": "markdown",
   "metadata": {},
   "source": [
    "## Precio descuento"
   ]
  },
  {
   "cell_type": "code",
   "execution_count": 10,
   "metadata": {},
   "outputs": [
    {
     "data": {
      "text/plain": [
       "[<span class=\"jsx-2689423372 price\">10.900<!-- -->€</span>,\n",
       " <span class=\"jsx-2689423372 price\">8.000<!-- -->€</span>,\n",
       " <span class=\"jsx-2689423372 price\">22.636<!-- -->€</span>,\n",
       " <span class=\"jsx-2689423372 price\">8.954<!-- -->€</span>]"
      ]
     },
     "execution_count": 10,
     "metadata": {},
     "output_type": "execute_result"
    }
   ],
   "source": [
    "precio_descuento = coches_soup.findAll (\"span\", {\"class\": \"jsx-2689423372 price\"})\n",
    "precio_descuento[:4]"
   ]
  },
  {
   "cell_type": "code",
   "execution_count": 11,
   "metadata": {},
   "outputs": [
    {
     "data": {
      "text/plain": [
       "[10900, 8000, 22636, 8954]"
      ]
     },
     "execution_count": 11,
     "metadata": {},
     "output_type": "execute_result"
    }
   ],
   "source": [
    "#precio descuento\n",
    "lista_precio_descuento = []\n",
    "\n",
    "for precio in precio_descuento:\n",
    "    precio = precio.text\n",
    "    precio_limpio = int(precio.split()[0].replace(\".\", \"\").replace(\"€\", \"\"))\n",
    "    lista_precio_descuento.append(precio_limpio)\n",
    "    \n",
    "lista_precio_descuento [:4]"
   ]
  },
  {
   "cell_type": "markdown",
   "metadata": {},
   "source": [
    "## Precio original"
   ]
  },
  {
   "cell_type": "code",
   "execution_count": 12,
   "metadata": {},
   "outputs": [
    {
     "data": {
      "text/plain": [
       "[<span class=\"jsx-2870186023 priceLast\">11.990<!-- -->€</span>,\n",
       " <span class=\"jsx-2870186023 priceLast\">8.800<!-- -->€</span>,\n",
       " <span class=\"jsx-2870186023 priceLast\">24.900<!-- -->€</span>,\n",
       " <span class=\"jsx-2870186023 priceLast\">9.850<!-- -->€</span>]"
      ]
     },
     "execution_count": 12,
     "metadata": {},
     "output_type": "execute_result"
    }
   ],
   "source": [
    "precio_original = coches_soup.find_all (\"span\", {\"class\": \"jsx-2870186023 priceLast\"})\n",
    "precio_original[:4]"
   ]
  },
  {
   "cell_type": "code",
   "execution_count": 13,
   "metadata": {},
   "outputs": [
    {
     "data": {
      "text/plain": [
       "[11990, 8800, 24900, 9850]"
      ]
     },
     "execution_count": 13,
     "metadata": {},
     "output_type": "execute_result"
    }
   ],
   "source": [
    "#precio descuento\n",
    "lista_precio_original = []\n",
    "\n",
    "for precio in precio_original:\n",
    "    precio = precio.text\n",
    "    precio_limpio = int(precio.split()[0].replace(\".\", \"\").replace(\"€\", \"\"))\n",
    "    lista_precio_original.append(precio_limpio)\n",
    "    \n",
    "lista_precio_original [:4]"
   ]
  },
  {
   "cell_type": "markdown",
   "metadata": {},
   "source": [
    "## Info kms"
   ]
  },
  {
   "cell_type": "code",
   "execution_count": 14,
   "metadata": {},
   "outputs": [
    {
     "data": {
      "text/plain": [
       "[]"
      ]
     },
     "execution_count": 14,
     "metadata": {},
     "output_type": "execute_result"
    }
   ],
   "source": [
    "kms = coches_soup.find_all (\"spa\", {\"class\": \"jsx-3960002075 icon\"}) #no funcciona\n",
    "kms [0:4]"
   ]
  },
  {
   "cell_type": "code",
   "execution_count": 29,
   "metadata": {},
   "outputs": [],
   "source": [
    "import re"
   ]
  },
  {
   "cell_type": "code",
   "execution_count": 35,
   "metadata": {},
   "outputs": [
    {
     "data": {
      "text/plain": [
       "['145.772 km',\n",
       " '169.229 km',\n",
       " '31.442 km',\n",
       " '88.922 km',\n",
       " '31.842 km',\n",
       " '17.108 km',\n",
       " '123.362 km',\n",
       " '55.786 km',\n",
       " '47.382 km',\n",
       " '63.204 km',\n",
       " '81.070 km',\n",
       " '144.376 km',\n",
       " '18.502 km',\n",
       " '61.185 km',\n",
       " '44.136 km',\n",
       " '53.662 km',\n",
       " '65.962 km',\n",
       " '56.343 km',\n",
       " '38.851 km',\n",
       " '93.079 km']"
      ]
     },
     "execution_count": 35,
     "metadata": {},
     "output_type": "execute_result"
    }
   ],
   "source": [
    "kms = coches_soup.find_all (\"span\", {\"class\": \"jsx-3960002075 detail big\"})\n",
    "\n",
    "kms_lista = []\n",
    "\n",
    "for km in kms:\n",
    "    km = km.text\n",
    "    km_limpio = re.findall(\"\\d{1,3}\\.\\d{3}\",km)\n",
    "    \n",
    "    if len(km_limpio) > 0:\n",
    "        kms_lista.append (km)\n",
    "\n",
    "kms_lista[0:30]"
   ]
  },
  {
   "cell_type": "code",
   "execution_count": 38,
   "metadata": {},
   "outputs": [
    {
     "data": {
      "text/plain": [
       "['145,772',\n",
       " '169,229',\n",
       " '31,442',\n",
       " '88,922',\n",
       " '31,842',\n",
       " '17,108',\n",
       " '123,362',\n",
       " '55,786',\n",
       " '47,382',\n",
       " '63,204',\n",
       " '81,070',\n",
       " '144,376',\n",
       " '18,502',\n",
       " '61,185',\n",
       " '44,136',\n",
       " '53,662',\n",
       " '65,962',\n",
       " '56,343',\n",
       " '38,851',\n",
       " '93,079']"
      ]
     },
     "execution_count": 38,
     "metadata": {},
     "output_type": "execute_result"
    }
   ],
   "source": [
    "kms_lista2 = []\n",
    "\n",
    "for km in kms_lista:\n",
    "    km = km.replace (\" km\",\"\"). replace (\".\",\",\")\n",
    "    kms_lista2.append(km)\n",
    "kms_lista2\n"
   ]
  },
  {
   "cell_type": "code",
   "execution_count": 40,
   "metadata": {},
   "outputs": [],
   "source": [
    "#Todo de una vez\n",
    "\n",
    "kms = coches_soup.find_all (\"span\", {\"class\": \"jsx-3960002075 detail big\"})\n",
    "\n",
    "kms_lista = []\n",
    "\n",
    "for km in kms:\n",
    "    km = km.text\n",
    "    km_limpio = re.findall(\"\\d{1,3}\\.\\d{3}\",km)\n",
    "    \n",
    "    if len(km_limpio) > 0:\n",
    "        kms_lista.append (km)\n",
    "\n",
    "        kms_lista3 = []\n",
    "\n",
    "        for km in kms_lista:\n",
    "            km = km.replace (\" km\",\"\"). replace (\".\",\",\")\n",
    "            kms_lista3.append(km)\n",
    "        kms_lista3"
   ]
  },
  {
   "cell_type": "code",
   "execution_count": 41,
   "metadata": {},
   "outputs": [
    {
     "data": {
      "text/plain": [
       "['145,772',\n",
       " '169,229',\n",
       " '31,442',\n",
       " '88,922',\n",
       " '31,842',\n",
       " '17,108',\n",
       " '123,362',\n",
       " '55,786',\n",
       " '47,382',\n",
       " '63,204',\n",
       " '81,070',\n",
       " '144,376',\n",
       " '18,502',\n",
       " '61,185',\n",
       " '44,136',\n",
       " '53,662',\n",
       " '65,962',\n",
       " '56,343',\n",
       " '38,851',\n",
       " '93,079']"
      ]
     },
     "execution_count": 41,
     "metadata": {},
     "output_type": "execute_result"
    }
   ],
   "source": [
    "kms_lista3"
   ]
  },
  {
   "cell_type": "code",
   "execution_count": 24,
   "metadata": {},
   "outputs": [
    {
     "ename": "TypeError",
     "evalue": "expected string or bytes-like object",
     "output_type": "error",
     "traceback": [
      "\u001b[0;31m---------------------------------------------------------------------------\u001b[0m",
      "\u001b[0;31mTypeError\u001b[0m                                 Traceback (most recent call last)",
      "\u001b[0;32m/tmp/ipykernel_2895/3286338380.py\u001b[0m in \u001b[0;36m<module>\u001b[0;34m\u001b[0m\n\u001b[1;32m      1\u001b[0m \u001b[0mpatron\u001b[0m \u001b[0;34m=\u001b[0m \u001b[0;34m\"\\d{1,3}\\.\\d{3}\"\u001b[0m\u001b[0;34m\u001b[0m\u001b[0;34m\u001b[0m\u001b[0m\n\u001b[0;32m----> 2\u001b[0;31m \u001b[0mlista_kms\u001b[0m \u001b[0;34m=\u001b[0m \u001b[0mre\u001b[0m\u001b[0;34m.\u001b[0m\u001b[0mfindall\u001b[0m\u001b[0;34m(\u001b[0m\u001b[0mpatron\u001b[0m\u001b[0;34m,\u001b[0m \u001b[0mkms\u001b[0m\u001b[0;34m)\u001b[0m\u001b[0;34m\u001b[0m\u001b[0;34m\u001b[0m\u001b[0m\n\u001b[0m",
      "\u001b[0;32m~/anaconda3/lib/python3.9/re.py\u001b[0m in \u001b[0;36mfindall\u001b[0;34m(pattern, string, flags)\u001b[0m\n\u001b[1;32m    239\u001b[0m \u001b[0;34m\u001b[0m\u001b[0m\n\u001b[1;32m    240\u001b[0m     Empty matches are included in the result.\"\"\"\n\u001b[0;32m--> 241\u001b[0;31m     \u001b[0;32mreturn\u001b[0m \u001b[0m_compile\u001b[0m\u001b[0;34m(\u001b[0m\u001b[0mpattern\u001b[0m\u001b[0;34m,\u001b[0m \u001b[0mflags\u001b[0m\u001b[0;34m)\u001b[0m\u001b[0;34m.\u001b[0m\u001b[0mfindall\u001b[0m\u001b[0;34m(\u001b[0m\u001b[0mstring\u001b[0m\u001b[0;34m)\u001b[0m\u001b[0;34m\u001b[0m\u001b[0;34m\u001b[0m\u001b[0m\n\u001b[0m\u001b[1;32m    242\u001b[0m \u001b[0;34m\u001b[0m\u001b[0m\n\u001b[1;32m    243\u001b[0m \u001b[0;32mdef\u001b[0m \u001b[0mfinditer\u001b[0m\u001b[0;34m(\u001b[0m\u001b[0mpattern\u001b[0m\u001b[0;34m,\u001b[0m \u001b[0mstring\u001b[0m\u001b[0;34m,\u001b[0m \u001b[0mflags\u001b[0m\u001b[0;34m=\u001b[0m\u001b[0;36m0\u001b[0m\u001b[0;34m)\u001b[0m\u001b[0;34m:\u001b[0m\u001b[0;34m\u001b[0m\u001b[0;34m\u001b[0m\u001b[0m\n",
      "\u001b[0;31mTypeError\u001b[0m: expected string or bytes-like object"
     ]
    }
   ],
   "source": [
    "patron = \"\\d{1,3}\\.\\d{3}\"\n",
    "lista_kms = re.findall(patron, kms)"
   ]
  },
  {
   "cell_type": "code",
   "execution_count": 20,
   "metadata": {},
   "outputs": [
    {
     "data": {
      "text/plain": [
       "('\\\\d{1,3}\\\\.\\\\d{3}', [])"
      ]
     },
     "execution_count": 20,
     "metadata": {},
     "output_type": "execute_result"
    }
   ],
   "source": [
    "lista_kms"
   ]
  },
  {
   "cell_type": "code",
   "execution_count": 17,
   "metadata": {},
   "outputs": [
    {
     "ename": "NameError",
     "evalue": "name 'c' is not defined",
     "output_type": "error",
     "traceback": [
      "\u001b[0;31m---------------------------------------------------------------------------\u001b[0m",
      "\u001b[0;31mNameError\u001b[0m                                 Traceback (most recent call last)",
      "\u001b[0;32m/tmp/ipykernel_2895/1269293817.py\u001b[0m in \u001b[0;36m<module>\u001b[0;34m\u001b[0m\n\u001b[1;32m      1\u001b[0m \u001b[0mkms\u001b[0m \u001b[0;34m=\u001b[0m \u001b[0mcoches_soup\u001b[0m\u001b[0;34m.\u001b[0m\u001b[0mfind_all\u001b[0m \u001b[0;34m(\u001b[0m\u001b[0;34m\"span\"\u001b[0m\u001b[0;34m,\u001b[0m \u001b[0;34m{\u001b[0m\u001b[0;34m\"img\"\u001b[0m\u001b[0;34m:\u001b[0m \u001b[0;34m\"alt=Km\"\u001b[0m\u001b[0;34m}\u001b[0m\u001b[0;34m)\u001b[0m \u001b[0;31m#no funcciona\u001b[0m\u001b[0;34m\u001b[0m\u001b[0;34m\u001b[0m\u001b[0m\n\u001b[0;32m----> 2\u001b[0;31m \u001b[0mc\u001b[0m\u001b[0;34m\u001b[0m\u001b[0;34m\u001b[0m\u001b[0m\n\u001b[0m",
      "\u001b[0;31mNameError\u001b[0m: name 'c' is not defined"
     ]
    }
   ],
   "source": [
    "kms = coches_soup.find_all (\"span\", {\"img\": \"alt=Km\"}) #no funcciona\n",
    "c"
   ]
  },
  {
   "cell_type": "code",
   "execution_count": null,
   "metadata": {},
   "outputs": [
    {
     "data": {
      "text/plain": [
       "[]"
      ]
     },
     "execution_count": 21,
     "metadata": {},
     "output_type": "execute_result"
    }
   ],
   "source": [
    "kms = coches_soup.find_all (\"span\", {\"class\": \"jsx-3960002075 icon\"}) #no funccionav\n",
    "kms [0:20]"
   ]
  },
  {
   "cell_type": "code",
   "execution_count": null,
   "metadata": {},
   "outputs": [],
   "source": []
  },
  {
   "cell_type": "code",
   "execution_count": null,
   "metadata": {},
   "outputs": [],
   "source": []
  },
  {
   "cell_type": "code",
   "execution_count": null,
   "metadata": {},
   "outputs": [],
   "source": []
  },
  {
   "cell_type": "code",
   "execution_count": null,
   "metadata": {},
   "outputs": [],
   "source": [
    "def scrape_coches (url):\n",
    "    #1. Llamar a al sitio web y el código\n",
    "    url = \"https://www.ocasionplus.com/coches-ocasion?type%3DCAR%26sort%3DFECHAOP_DESC%26page%3D2\"\n",
    "    coches = requests.get(url)\n",
    "    print(\"La respuesta de la petición es:\", coches.status_code)\n",
    "\n",
    "    #2. Definir el Beautiful Soup\n",
    "    coches_beautiful = BeautifulSoup(coches.content, 'html.parser')\n",
    "    "
   ]
  }
 ],
 "metadata": {
  "kernelspec": {
   "display_name": "base",
   "language": "python",
   "name": "python3"
  },
  "language_info": {
   "codemirror_mode": {
    "name": "ipython",
    "version": 3
   },
   "file_extension": ".py",
   "mimetype": "text/x-python",
   "name": "python",
   "nbconvert_exporter": "python",
   "pygments_lexer": "ipython3",
   "version": "3.9.7"
  }
 },
 "nbformat": 4,
 "nbformat_minor": 2
}
