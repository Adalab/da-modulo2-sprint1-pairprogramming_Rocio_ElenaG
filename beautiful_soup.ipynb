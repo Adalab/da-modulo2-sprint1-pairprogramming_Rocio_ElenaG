{
 "cells": [
  {
   "cell_type": "markdown",
   "metadata": {},
   "source": [
    "### Beautiful Soup\n",
    "Escribe una función llamada scrape_coches_ocasion que acepta una URL como argumento y devuelve un DataFrame de pandas con información sobre coches de ocasión encontrados en la página web especificada. La función realizará las siguientes tareas:\n",
    "- Realizará una solicitud HTTP GET a la \n",
    "- Comprobará el código de estado de la respuesta. Si el código no es 200 (OK), imprimirá un mensaje de error y retornará None.\n",
    "- Extraerá los nombres de los coches, los precios rebajados, los precios originales y la información de los kilómetros recorridos de la página\n",
    "- Organizará los datos extraídos en un DataFrame de pandas con las siguientes columnas:\n",
    "        \"coche\": Nombres de los coches.\n",
    "        \"precio_rebajado\": Precios rebajados\n",
    "        \"precio_original\": Precios originales\n",
    "        \"km\": Kilómetros recorridos\n",
    "- Retornará el DataFrame resultante\n",
    "- Una vez extraida toda la información deberéis almacenar toda la información en un DataFrame\n",
    "\n"
   ]
  },
  {
   "cell_type": "code",
   "execution_count": 42,
   "metadata": {},
   "outputs": [],
   "source": [
    "import requests\n",
    "import pandas as pd\n",
    "from bs4 import BeautifulSoup"
   ]
  },
  {
   "cell_type": "code",
   "execution_count": 43,
   "metadata": {},
   "outputs": [
    {
     "name": "stdout",
     "output_type": "stream",
     "text": [
      "La respuesta de la petición es: 200\n"
     ]
    }
   ],
   "source": [
    "url_coches = \"https://www.ocasionplus.com/coches-ocasion?type%3DCAR%26sort%3DFECHAOP_DESC%26page%3D2\"\n",
    "coches = requests.get(url_coches)\n",
    "print(\"La respuesta de la petición es:\", coches.status_code)"
   ]
  },
  {
   "cell_type": "code",
   "execution_count": 44,
   "metadata": {},
   "outputs": [],
   "source": [
    "coches_soup = BeautifulSoup(coches.content, 'html.parser')\n",
    "#coches_soup\n",
    "#print (coches_soup.prettify())"
   ]
  },
  {
   "cell_type": "code",
   "execution_count": 6,
   "metadata": {},
   "outputs": [
    {
     "data": {
      "text/plain": [
       "[<h2 style=\"overflow-x:hidden\">Peugeot 208 BlueHDi 100 Allure (100 CV)</h2>,\n",
       " <h2 style=\"overflow-x:hidden\">Hyundai Kona 1.0 TGDi Klass 4x2 (120 CV)</h2>,\n",
       " <h2 style=\"overflow-x:hidden\">Ford Focus 1.0 Ecoboost MHEV Trend+ (125 CV)</h2>,\n",
       " <h2 style=\"overflow-x:hidden\">Hyundai i20 1.2 MPI (75CV) Essence LE</h2>]"
      ]
     },
     "execution_count": 6,
     "metadata": {},
     "output_type": "execute_result"
    }
   ],
   "source": [
    "lista_nombre_coche = coches_soup.find_all (\"h2\", {\"style\": \"overflow-x:hidden\"})\n",
    "lista_nombre_coche[:4]"
   ]
  },
  {
   "cell_type": "code",
   "execution_count": 7,
   "metadata": {},
   "outputs": [
    {
     "data": {
      "text/plain": [
       "'Peugeot 208 BlueHDi 100 Allure (100 CV)'"
      ]
     },
     "execution_count": 7,
     "metadata": {},
     "output_type": "execute_result"
    }
   ],
   "source": [
    "lista_nombre_coche[0].text"
   ]
  },
  {
   "cell_type": "code",
   "execution_count": 8,
   "metadata": {},
   "outputs": [
    {
     "data": {
      "text/plain": [
       "['Peugeot 208 BlueHDi 100 Allure (100 CV)',\n",
       " 'Hyundai Kona 1.0 TGDi Klass 4x2 (120 CV)',\n",
       " 'Ford Focus 1.0 Ecoboost MHEV Trend+ (125 CV)',\n",
       " 'Hyundai i20 1.2 MPI (75CV) Essence LE']"
      ]
     },
     "execution_count": 8,
     "metadata": {},
     "output_type": "execute_result"
    }
   ],
   "source": [
    "nombre_coches = []\n",
    "\n",
    "for nombre in lista_nombre_coche:\n",
    "    nombre_coches.append (nombre.text)\n",
    "nombre_coches [:4]"
   ]
  },
  {
   "cell_type": "code",
   "execution_count": 9,
   "metadata": {},
   "outputs": [
    {
     "data": {
      "text/plain": [
       "['Peugeot 208 BlueHDi 100 Allure (100 CV)',\n",
       " 'Hyundai Kona 1.0 TGDi Klass 4x2 (120 CV)',\n",
       " 'Ford Focus 1.0 Ecoboost MHEV Trend+ (125 CV)',\n",
       " 'Hyundai i20 1.2 MPI (75CV) Essence LE']"
      ]
     },
     "execution_count": 9,
     "metadata": {},
     "output_type": "execute_result"
    }
   ],
   "source": [
    "nombre_coches2 = [nombre.text for nombre in lista_nombre_coche]\n",
    "nombre_coches2 [:4]"
   ]
  },
  {
   "cell_type": "markdown",
   "metadata": {},
   "source": [
    "## Precio descuento"
   ]
  },
  {
   "cell_type": "code",
   "execution_count": 32,
   "metadata": {},
   "outputs": [
    {
     "data": {
      "text/plain": [
       "[<span class=\"jsx-2689423372 price\">15.636<!-- -->€</span>,\n",
       " <span class=\"jsx-2689423372 price\">14.536<!-- -->€</span>,\n",
       " <span class=\"jsx-2689423372 price\">13.627<!-- -->€</span>,\n",
       " <span class=\"jsx-2689423372 price\">10.900<!-- -->€</span>]"
      ]
     },
     "execution_count": 32,
     "metadata": {},
     "output_type": "execute_result"
    }
   ],
   "source": [
    "precio_descuento = coches_soup.findAll (\"span\", {\"class\": \"jsx-2689423372 price\"})\n",
    "precio_descuento[:4]"
   ]
  },
  {
   "cell_type": "code",
   "execution_count": 33,
   "metadata": {},
   "outputs": [
    {
     "data": {
      "text/plain": [
       "[15636, 14536, 13627, 10900]"
      ]
     },
     "execution_count": 33,
     "metadata": {},
     "output_type": "execute_result"
    }
   ],
   "source": [
    "#precio descuento\n",
    "lista_precio_descuento = []\n",
    "\n",
    "for precio in precio_descuento:\n",
    "    precio = precio.text\n",
    "    precio_limpio = int(precio.split()[0].replace(\".\", \"\").replace(\"€\", \"\"))\n",
    "    lista_precio_descuento.append(precio_limpio)\n",
    "    \n",
    "lista_precio_descuento [:4]"
   ]
  },
  {
   "cell_type": "markdown",
   "metadata": {},
   "source": [
    "## Precio original"
   ]
  },
  {
   "cell_type": "code",
   "execution_count": 34,
   "metadata": {},
   "outputs": [
    {
     "data": {
      "text/plain": [
       "[<span class=\"jsx-2870186023 priceLast\">17.200<!-- -->€</span>,\n",
       " <span class=\"jsx-2870186023 priceLast\">15.990<!-- -->€</span>,\n",
       " <span class=\"jsx-2870186023 priceLast\">14.990<!-- -->€</span>,\n",
       " <span class=\"jsx-2870186023 priceLast\">11.990<!-- -->€</span>]"
      ]
     },
     "execution_count": 34,
     "metadata": {},
     "output_type": "execute_result"
    }
   ],
   "source": [
    "precio_original = coches_soup.find_all (\"span\", {\"class\": \"jsx-2870186023 priceLast\"})\n",
    "precio_original[:4]"
   ]
  },
  {
   "cell_type": "code",
   "execution_count": 36,
   "metadata": {},
   "outputs": [
    {
     "data": {
      "text/plain": [
       "[17200, 15990, 14990, 11990]"
      ]
     },
     "execution_count": 36,
     "metadata": {},
     "output_type": "execute_result"
    }
   ],
   "source": [
    "#precio descuento\n",
    "lista_precio_original = []\n",
    "\n",
    "for precio in precio_original:\n",
    "    precio = precio.text\n",
    "    precio_limpio = int(precio.split()[0].replace(\".\", \"\").replace(\"€\", \"\"))\n",
    "    lista_precio_original.append(precio_limpio)\n",
    "    \n",
    "lista_precio_original [:4]"
   ]
  },
  {
   "cell_type": "markdown",
   "metadata": {},
   "source": [
    "## Info kms"
   ]
  },
  {
   "cell_type": "code",
   "execution_count": 47,
   "metadata": {},
   "outputs": [
    {
     "data": {
      "text/plain": [
       "[]"
      ]
     },
     "execution_count": 47,
     "metadata": {},
     "output_type": "execute_result"
    }
   ],
   "source": [
    "kms = coches_soup.find_all (\"spa\", {\"class\": \"jsx-3960002075 icon\"}) #no funcciona\n",
    "kms [0:4]"
   ]
  },
  {
   "cell_type": "code",
   "execution_count": null,
   "metadata": {},
   "outputs": [],
   "source": []
  },
  {
   "cell_type": "code",
   "execution_count": null,
   "metadata": {},
   "outputs": [],
   "source": []
  },
  {
   "cell_type": "code",
   "execution_count": null,
   "metadata": {},
   "outputs": [],
   "source": []
  },
  {
   "cell_type": "code",
   "execution_count": null,
   "metadata": {},
   "outputs": [],
   "source": []
  },
  {
   "cell_type": "code",
   "execution_count": null,
   "metadata": {},
   "outputs": [],
   "source": []
  },
  {
   "cell_type": "code",
   "execution_count": null,
   "metadata": {},
   "outputs": [],
   "source": []
  },
  {
   "cell_type": "code",
   "execution_count": null,
   "metadata": {},
   "outputs": [],
   "source": [
    "def scrape_coches (url):\n",
    "    #1. Llamar a al sitio web y el código\n",
    "    url = \"https://www.ocasionplus.com/coches-ocasion?type%3DCAR%26sort%3DFECHAOP_DESC%26page%3D2\"\n",
    "    coches = requests.get(url)\n",
    "    print(\"La respuesta de la petición es:\", coches.status_code)\n",
    "\n",
    "    #2. Definir el Beautiful Soup\n",
    "    coches_beautiful = BeautifulSoup(coches.content, 'html.parser')\n",
    "    "
   ]
  }
 ],
 "metadata": {
  "kernelspec": {
   "display_name": "base",
   "language": "python",
   "name": "python3"
  },
  "language_info": {
   "codemirror_mode": {
    "name": "ipython",
    "version": 3
   },
   "file_extension": ".py",
   "mimetype": "text/x-python",
   "name": "python",
   "nbconvert_exporter": "python",
   "pygments_lexer": "ipython3",
   "version": "3.9.7"
  }
 },
 "nbformat": 4,
 "nbformat_minor": 2
}
